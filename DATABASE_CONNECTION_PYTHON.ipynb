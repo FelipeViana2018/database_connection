{
 "cells": [
  {
   "cell_type": "code",
   "execution_count": null,
   "metadata": {},
   "outputs": [],
   "source": [
    "# Here you'll find the panel instruction and script to connect on databases."
   ]
  },
  {
   "cell_type": "code",
   "execution_count": null,
   "metadata": {},
   "outputs": [],
   "source": []
  },
  {
   "cell_type": "code",
   "execution_count": null,
   "metadata": {},
   "outputs": [],
   "source": [
    "#!/usr/bin/env python\n",
    "# coding: utf-8\n",
    "\n",
    "# POSTGRES DATABASE\n",
    "\n",
    "import psycopg2\n",
    "\n",
    "con = psycopg2.connect(user = \"postgres\",\n",
    "                       password = \"database_password\",\n",
    "                       host = \"ip_host\",\n",
    "                       port = \"5432\",\n",
    "                       database = \"name_database\")\n",
    "\n",
    "\n",
    "c1 = con.cursor()\n",
    "\n",
    "c1.execute(\"\"\" Your Query \"\"\")\n",
    "\n",
    "\n",
    "\n",
    "con.close() #Don't forget close the connection."
   ]
  },
  {
   "cell_type": "code",
   "execution_count": null,
   "metadata": {},
   "outputs": [],
   "source": [
    "#!/usr/bin/env python\n",
    "# coding: utf-8\n",
    "\n",
    "# MONGODB DATABASE\n",
    "\n",
    "import pymongo\n",
    "client = pymongo.MongoClient('ip_host', 27017)\n",
    "\n",
    "client.admin.authenticate('admin', 'database_password')\n",
    "\n",
    "db = client.analytics #analytics is just a example you must rename and greate your own db name.\n",
    "\n",
    "col = db.statis #statis is just a example you must rename and greate your own collection name.\n",
    "\n",
    "cursor = col.find()\n",
    "\n",
    "client.close()#Don't forget close the connection."
   ]
  },
  {
   "cell_type": "code",
   "execution_count": null,
   "metadata": {},
   "outputs": [],
   "source": [
    "#!/usr/bin/env python\n",
    "# coding: utf-8\n",
    "\n",
    "# MYSQL DATABASE\n",
    "\n",
    "import pymysql\n",
    "\n",
    "con = pymysql.connect(host=\"ip_host\", \n",
    "                      user=\"your_user_name\", \n",
    "                      passwd=\"your_password\", \n",
    "                      db=\"database_name\")\n",
    "\n",
    "con.select_db('database_name')\n",
    "\n",
    "c1 = con.cursor()\n",
    "\n",
    "c1.execute(\"\"\" YOUR_QUERY \"\"\")\n",
    "\n",
    "con.close() #Don't forget close the connection."
   ]
  }
 ],
 "metadata": {
  "kernelspec": {
   "display_name": "Python 3",
   "language": "python",
   "name": "python3"
  },
  "language_info": {
   "codemirror_mode": {
    "name": "ipython",
    "version": 3
   },
   "file_extension": ".py",
   "mimetype": "text/x-python",
   "name": "python",
   "nbconvert_exporter": "python",
   "pygments_lexer": "ipython3",
   "version": "3.7.3"
  }
 },
 "nbformat": 4,
 "nbformat_minor": 2
}
